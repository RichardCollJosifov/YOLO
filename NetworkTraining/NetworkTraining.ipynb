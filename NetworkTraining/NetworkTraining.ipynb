# This cell imports the drive library and mounts your Google Drive as a VM local drive
from google.colab import drive
drive.mount('/content/gdrive')
